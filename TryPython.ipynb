{
 "cells": [
  {
   "cell_type": "code",
   "execution_count": 1,
   "id": "4d9f29cf",
   "metadata": {},
   "outputs": [
    {
     "name": "stdout",
     "output_type": "stream",
     "text": [
      "Hello\n"
     ]
    }
   ],
   "source": [
    "x= \"Hello\"\n",
    "print(x)\n"
   ]
  },
  {
   "cell_type": "code",
   "execution_count": null,
   "id": "bb0ee78e",
   "metadata": {},
   "outputs": [],
   "source": [
    "x= \"De Guzman\"\n",
    "y= \"IT_2110\"\n",
    "\n",
    "print(x + \" from \" + y) #concatenating the x and y with a string"
   ]
  },
  {
   "cell_type": "code",
   "execution_count": 2,
   "id": "6a221719",
   "metadata": {
    "scrolled": true
   },
   "outputs": [
    {
     "name": "stdout",
     "output_type": "stream",
     "text": [
      "World\n"
     ]
    }
   ],
   "source": [
    "x= \"World\"\n",
    "print(x)"
   ]
  },
  {
   "cell_type": "code",
   "execution_count": 16,
   "id": "58107ee3",
   "metadata": {},
   "outputs": [
    {
     "name": "stdout",
     "output_type": "stream",
     "text": [
      "Enter an equation: 3 + 2\n"
     ]
    },
    {
     "data": {
      "text/plain": [
       "5"
      ]
     },
     "execution_count": 16,
     "metadata": {},
     "output_type": "execute_result"
    }
   ],
   "source": [
    "number = eval(input(\"Enter an equation: \"))#for the output to be integer and not a string\n",
    "number"
   ]
  },
  {
   "cell_type": "code",
   "execution_count": 21,
   "id": "fb4be8c9",
   "metadata": {},
   "outputs": [
    {
     "name": "stdout",
     "output_type": "stream",
     "text": [
      "Enter a number: 4\n"
     ]
    },
    {
     "data": {
      "text/plain": [
       "4.0"
      ]
     },
     "execution_count": 21,
     "metadata": {},
     "output_type": "execute_result"
    }
   ],
   "source": [
    "x = eval(input(\"Enter a number: \"))\n",
    "float(x)#to change the data type of x from integer to float"
   ]
  },
  {
   "cell_type": "code",
   "execution_count": 28,
   "id": "e02b171d",
   "metadata": {},
   "outputs": [
    {
     "name": "stdout",
     "output_type": "stream",
     "text": [
      "Enter a number: 3\n",
      "3 is greater than 1\n"
     ]
    }
   ],
   "source": [
    "#if, elif, else statement that checks if the value of x is greather, less, or zero\n",
    "x= int(input(\"Enter a number: \"))\n",
    "if x>1:\n",
    "    print(x,\"is greater than 1\")\n",
    "elif x<0:\n",
    "    print(x, \"is less than 1\")\n",
    "else:\n",
    "    print(x, \"is 0\")"
   ]
  },
  {
   "cell_type": "markdown",
   "id": "5b41925e",
   "metadata": {},
   "source": [
    "x = eval(input(\"Enter a number: \")\n"
   ]
  },
  {
   "cell_type": "code",
   "execution_count": 31,
   "id": "5a9efa3a",
   "metadata": {},
   "outputs": [
    {
     "name": "stdout",
     "output_type": "stream",
     "text": [
      "Fried chicken\n",
      "Boiled chicken\n"
     ]
    }
   ],
   "source": [
    "#Calling a Function\n",
    "def myFunc(food):\n",
    "    print(food + \" chicken\")\n",
    "    \n",
    "myFunc(\"Fried\")\n",
    "myFunc(\"Boiled\")"
   ]
  },
  {
   "cell_type": "code",
   "execution_count": 35,
   "id": "6fa52362",
   "metadata": {},
   "outputs": [
    {
     "name": "stdout",
     "output_type": "stream",
     "text": [
      "Name: Unknown\n",
      "Age:  0\n",
      "Name: Garry\n",
      "Age:  20\n"
     ]
    }
   ],
   "source": [
    "#Default and Keyword Arguments\n",
    "def myInfo(name = \"Unknown\", age = 0):\n",
    "    print (\"Name:\", name)\n",
    "    print (\"Age: \", age)\n",
    "    return;\n",
    "\n",
    "myInfo()\n",
    "myInfo(name=\"Garry\", age=20)"
   ]
  },
  {
   "cell_type": "code",
   "execution_count": 36,
   "id": "062d798f",
   "metadata": {},
   "outputs": [
    {
     "name": "stdout",
     "output_type": "stream",
     "text": [
      "Total is:  20\n"
     ]
    }
   ],
   "source": [
    "#return statements\n",
    "def product(x, y):\n",
    "    total = (x*y)\n",
    "    print(\"Total is: \", total)\n",
    "    return total;\n",
    "\n",
    "total = product(4,5)"
   ]
  },
  {
   "cell_type": "code",
   "execution_count": 44,
   "id": "6eb76655",
   "metadata": {},
   "outputs": [
    {
     "name": "stdout",
     "output_type": "stream",
     "text": [
      "0 is less than 5\n",
      "1 is less than 5\n",
      "2 is less than 5\n",
      "3 is less than 5\n"
     ]
    }
   ],
   "source": [
    "#Loop statement\n",
    "i = 0\n",
    "while i < 10:\n",
    "    print (i, \"is less than 5\")\n",
    "    i = i+1\n",
    "    if (i >= 4 <= i):\n",
    "        break;\n",
    "else:\n",
    "    print(i, \"is not less than 5\")"
   ]
  },
  {
   "cell_type": "code",
   "execution_count": 55,
   "id": "1e76cda7",
   "metadata": {
    "scrolled": true
   },
   "outputs": [
    {
     "name": "stdout",
     "output_type": "stream",
     "text": [
      "Nike\n",
      "Adidas\n",
      "Vans\n",
      "3\n"
     ]
    }
   ],
   "source": [
    "def myFunc(shoes): #List\n",
    "    for i in shoes:\n",
    "        print(i)\n",
    "shoes = [\"Nike\", \"Adidas\", \"Vans\"]\n",
    "myFunc(shoes)\n",
    "i = len(shoes)\n",
    "print (i)\n",
    "\n"
   ]
  },
  {
   "cell_type": "code",
   "execution_count": 76,
   "id": "004bd51d",
   "metadata": {
    "scrolled": true
   },
   "outputs": [
    {
     "name": "stdout",
     "output_type": "stream",
     "text": [
      "Nike\n",
      "Adidas\n",
      "Milanos\n"
     ]
    }
   ],
   "source": [
    "shoes.append(\"Milanos\")#adding a shoes in the list\n",
    "myFunc(shoes)"
   ]
  },
  {
   "cell_type": "code",
   "execution_count": 77,
   "id": "6bb6f57b",
   "metadata": {
    "scrolled": true
   },
   "outputs": [
    {
     "name": "stdout",
     "output_type": "stream",
     "text": [
      "Nike\n",
      "Adidas\n",
      "Milanos\n",
      "Vans\n"
     ]
    }
   ],
   "source": [
    "shoes.append(\"Vans\")\n",
    "myFunc(shoes)"
   ]
  },
  {
   "cell_type": "code",
   "execution_count": 79,
   "id": "e0a5b33a",
   "metadata": {},
   "outputs": [
    {
     "name": "stdout",
     "output_type": "stream",
     "text": [
      "Nike\n",
      "Adidas\n",
      "Milanos\n"
     ]
    }
   ],
   "source": [
    "shoes.remove(\"Vans\")#removing shoes in the list\n",
    "myFunc(shoes)"
   ]
  },
  {
   "cell_type": "code",
   "execution_count": 81,
   "id": "0132e24f",
   "metadata": {},
   "outputs": [
    {
     "name": "stdout",
     "output_type": "stream",
     "text": [
      "Name: Lion\n",
      "Kingdom: Animalia\n",
      "Gender: Male\n"
     ]
    }
   ],
   "source": [
    "#Class\n",
    "class Animal:\n",
    "    def __init__(self, name, kingdom, gender):\n",
    "        self.name = name\n",
    "        self.kingdom = kingdom\n",
    "        self.gender = gender\n",
    "animal1 = Animal(\"Lion\", \"Animalia\", \"Male\")\n",
    "print(\"Name: \" + animal1.name)\n",
    "print(\"Kingdom: \" + animal1.kingdom)\n",
    "print(\"Gender: \" + animal1.gender)"
   ]
  },
  {
   "cell_type": "code",
   "execution_count": 82,
   "id": "66f22152",
   "metadata": {},
   "outputs": [
    {
     "name": "stdout",
     "output_type": "stream",
     "text": [
      "Name: Lioness\n",
      "Kingdom: Animalia\n",
      "Gender: Female\n"
     ]
    }
   ],
   "source": [
    "animal2 = Animal(\"Lioness\", \"Animalia\", \"Female\")\n",
    "print(\"Name: \" + animal2.name)\n",
    "print(\"Kingdom: \" + animal2.kingdom)\n",
    "print(\"Gender: \" + animal2.gender)"
   ]
  },
  {
   "cell_type": "code",
   "execution_count": null,
   "id": "dc0d3721",
   "metadata": {},
   "outputs": [],
   "source": []
  }
 ],
 "metadata": {
  "kernelspec": {
   "display_name": "Python 3 (ipykernel)",
   "language": "python",
   "name": "python3"
  },
  "language_info": {
   "codemirror_mode": {
    "name": "ipython",
    "version": 3
   },
   "file_extension": ".py",
   "mimetype": "text/x-python",
   "name": "python",
   "nbconvert_exporter": "python",
   "pygments_lexer": "ipython3",
   "version": "3.9.13"
  }
 },
 "nbformat": 4,
 "nbformat_minor": 5
}
